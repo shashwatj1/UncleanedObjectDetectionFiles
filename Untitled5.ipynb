{
 "cells": [
  {
   "cell_type": "code",
   "execution_count": 2,
   "id": "6a68cc5f-418d-43b8-837c-772530470a92",
   "metadata": {},
   "outputs": [],
   "source": [
    "import torch\n",
    "from ultralytics import YOLO"
   ]
  },
  {
   "cell_type": "code",
   "execution_count": 4,
   "id": "fb4b2789-fe5f-4e66-91ec-fbf222ee50e3",
   "metadata": {},
   "outputs": [],
   "source": [
    "train_images_path = 'Dataset/train2017/train2017'\n",
    "val_images_path = 'Dataset/val2017/val2017'\n",
    "annotations_train = 'Dataset/annotations_trainval2017/annotations/instances_train2017.json'\n",
    "annotations_val = 'Dataset/annotations_trainavl2017/annotations/instances_val2017.json'"
   ]
  },
  {
   "cell_type": "code",
   "execution_count": 6,
   "id": "d8dec2bf-6cd5-411f-a95b-a24c6e31ce19",
   "metadata": {},
   "outputs": [],
   "source": [
    "coco_classes = [\n",
    "    'person', 'bicycle', 'car', 'motorcycle', 'airplane', 'bus', 'train', 'truck', \n",
    "    'boat', 'traffic light', 'fire hydrant', 'stop sign', 'parking meter', 'bench', \n",
    "    'bird', 'cat', 'dog', 'horse', 'sheep', 'cow', 'elephant', 'bear', 'zebra', \n",
    "    'giraffe', 'backpack', 'umbrella', 'handbag', 'tie', 'suitcase', 'frisbee', \n",
    "    'skis', 'snowboard', 'sports ball', 'kite', 'baseball bat', 'baseball glove', \n",
    "    'skateboard', 'surfboard', 'tennis racket', 'bottle', 'wine glass', 'cup', \n",
    "    'fork', 'knife', 'spoon', 'bowl', 'banana', 'apple', 'sandwich', 'orange', \n",
    "    'broccoli', 'carrot', 'hot dog', 'pizza', 'donut', 'cake', 'chair', 'couch', \n",
    "    'potted plant', 'bed', 'dining table', 'toilet', 'TV', 'laptop', 'mouse', \n",
    "    'remote', 'keyboard', 'cell phone', 'microwave', 'oven', 'toaster', 'sink', \n",
    "    'refrigerator', 'book', 'clock', 'vase', 'scissors', 'teddy bear', 'hair drier', \n",
    "    'toothbrush'\n",
    "]"
   ]
  },
  {
   "cell_type": "code",
   "execution_count": 8,
   "id": "fa202125-df5d-4942-bf05-de8d11112a3a",
   "metadata": {},
   "outputs": [],
   "source": [
    "data_dict = {\n",
    "    'train': train_images_path,\n",
    "    'val': val_images_path,\n",
    "    'nc': len(coco_classes),\n",
    "    'names': coco_classes\n",
    "}"
   ]
  },
  {
   "cell_type": "code",
   "execution_count": 14,
   "id": "456933bb-ceb1-48a3-91fc-18ef53b4dd47",
   "metadata": {},
   "outputs": [],
   "source": [
    "args = {\n",
    "    'img_size': 640,\n",
    "    'batch_size': 16,\n",
    "    'epochs': 10,\n",
    "    'data': data_dict,\n",
    "    'weights': 'yolov8n.pt',\n",
    "    'cache_images': True\n",
    "}"
   ]
  },
  {
   "cell_type": "code",
   "execution_count": 16,
   "id": "c0cf7857-3053-4c64-8a8b-1f84df21489b",
   "metadata": {},
   "outputs": [],
   "source": [
    "from yolov5 import train"
   ]
  },
  {
   "cell_type": "code",
   "execution_count": 22,
   "id": "cbb55c2b-a787-45c6-8fa2-68c69e289c33",
   "metadata": {},
   "outputs": [],
   "source": [
    "import os\n",
    "import sys\n",
    "if not os.path.exists(train_images_path):\n",
    "    print(f\"Training images path not found: {train_images_path}\")\n",
    "    sys.exit()\n",
    "\n",
    "if not os.path.exists(val_images_path):\n",
    "    print(f\"Validation images path not found: {val_images_path}\")\n",
    "    sys.exit()"
   ]
  },
  {
   "cell_type": "code",
   "execution_count": 24,
   "id": "fb008895-4262-47a4-bd64-21618bb55d03",
   "metadata": {},
   "outputs": [
    {
     "name": "stderr",
     "output_type": "stream",
     "text": [
      "\u001b[34m\u001b[1mtrain: \u001b[0mweights=yolov8n.pt, cfg=, data={'train': 'Dataset/train2017/train2017', 'val': 'Dataset/val2017/val2017', 'nc': 80, 'names': ['person', 'bicycle', 'car', 'motorcycle', 'airplane', 'bus', 'train', 'truck', 'boat', 'traffic light', 'fire hydrant', 'stop sign', 'parking meter', 'bench', 'bird', 'cat', 'dog', 'horse', 'sheep', 'cow', 'elephant', 'bear', 'zebra', 'giraffe', 'backpack', 'umbrella', 'handbag', 'tie', 'suitcase', 'frisbee', 'skis', 'snowboard', 'sports ball', 'kite', 'baseball bat', 'baseball glove', 'skateboard', 'surfboard', 'tennis racket', 'bottle', 'wine glass', 'cup', 'fork', 'knife', 'spoon', 'bowl', 'banana', 'apple', 'sandwich', 'orange', 'broccoli', 'carrot', 'hot dog', 'pizza', 'donut', 'cake', 'chair', 'couch', 'potted plant', 'bed', 'dining table', 'toilet', 'TV', 'laptop', 'mouse', 'remote', 'keyboard', 'cell phone', 'microwave', 'oven', 'toaster', 'sink', 'refrigerator', 'book', 'clock', 'vase', 'scissors', 'teddy bear', 'hair drier', 'toothbrush']}, hyp=yolov5\\data\\hyps\\hyp.scratch-low.yaml, epochs=10, batch_size=16, imgsz=640, rect=False, resume=False, nosave=False, noval=False, noautoanchor=False, noplots=False, evolve=None, evolve_population=yolov5\\data\\hyps, resume_evolve=None, bucket=, cache=None, image_weights=False, device=, multi_scale=False, single_cls=False, optimizer=SGD, sync_bn=False, workers=8, project=yolov5\\runs\\train, name=exp, exist_ok=False, quad=False, cos_lr=False, label_smoothing=0.0, patience=100, freeze=[0], save_period=-1, seed=0, local_rank=-1, entity=None, upload_dataset=False, bbox_interval=-1, artifact_alias=latest, ndjson_console=False, ndjson_file=False, img_size=640, cache_images=True\n",
      "\u001b[34m\u001b[1mgithub: \u001b[0m YOLOv5 is out of date by 31 commits. Use 'git pull' or 'git clone https://github.com/ultralytics/yolov5' to update.\n"
     ]
    },
    {
     "ename": "AssertionError",
     "evalue": "File not found: {'train': 'Dataset/train2017/train2017', 'val': 'Dataset/val2017/val2017', 'nc': 80, 'names': ['person', 'bicycle', 'car', 'motorcycle', 'airplane', 'bus', 'train', 'truck', 'boat', 'traffic light', 'fire hydrant', 'stop sign', 'parking meter', 'bench', 'bird', 'cat', 'dog', 'horse', 'sheep', 'cow', 'elephant', 'bear', 'zebra', 'giraffe', 'backpack', 'umbrella', 'handbag', 'tie', 'suitcase', 'frisbee', 'skis', 'snowboard', 'sports ball', 'kite', 'baseball bat', 'baseball glove', 'skateboard', 'surfboard', 'tennis racket', 'bottle', 'wine glass', 'cup', 'fork', 'knife', 'spoon', 'bowl', 'banana', 'apple', 'sandwich', 'orange', 'broccoli', 'carrot', 'hot dog', 'pizza', 'donut', 'cake', 'chair', 'couch', 'potted plant', 'bed', 'dining table', 'toilet', 'TV', 'laptop', 'mouse', 'remote', 'keyboard', 'cell phone', 'microwave', 'oven', 'toaster', 'sink', 'refrigerator', 'book', 'clock', 'vase', 'scissors', 'teddy bear', 'hair drier', 'toothbrush']}",
     "output_type": "error",
     "traceback": [
      "\u001b[1;31m---------------------------------------------------------------------------\u001b[0m",
      "\u001b[1;31mAssertionError\u001b[0m                            Traceback (most recent call last)",
      "Cell \u001b[1;32mIn[24], line 1\u001b[0m\n\u001b[1;32m----> 1\u001b[0m train\u001b[38;5;241m.\u001b[39mrun(\u001b[38;5;241m*\u001b[39m\u001b[38;5;241m*\u001b[39margs)\n",
      "File \u001b[1;32m~\\ModelDirectory\\yolov5\\train.py:846\u001b[0m, in \u001b[0;36mrun\u001b[1;34m(**kwargs)\u001b[0m\n\u001b[0;32m    844\u001b[0m \u001b[38;5;28;01mfor\u001b[39;00m k, v \u001b[38;5;129;01min\u001b[39;00m kwargs\u001b[38;5;241m.\u001b[39mitems():\n\u001b[0;32m    845\u001b[0m     \u001b[38;5;28msetattr\u001b[39m(opt, k, v)\n\u001b[1;32m--> 846\u001b[0m main(opt)\n\u001b[0;32m    847\u001b[0m \u001b[38;5;28;01mreturn\u001b[39;00m opt\n",
      "File \u001b[1;32m~\\ModelDirectory\\yolov5\\train.py:595\u001b[0m, in \u001b[0;36mmain\u001b[1;34m(opt, callbacks)\u001b[0m\n\u001b[0;32m    592\u001b[0m         opt\u001b[38;5;241m.\u001b[39mdata \u001b[38;5;241m=\u001b[39m check_file(opt_data)  \u001b[38;5;66;03m# avoid HUB resume auth timeout\u001b[39;00m\n\u001b[0;32m    593\u001b[0m \u001b[38;5;28;01melse\u001b[39;00m:\n\u001b[0;32m    594\u001b[0m     opt\u001b[38;5;241m.\u001b[39mdata, opt\u001b[38;5;241m.\u001b[39mcfg, opt\u001b[38;5;241m.\u001b[39mhyp, opt\u001b[38;5;241m.\u001b[39mweights, opt\u001b[38;5;241m.\u001b[39mproject \u001b[38;5;241m=\u001b[39m (\n\u001b[1;32m--> 595\u001b[0m         check_file(opt\u001b[38;5;241m.\u001b[39mdata),\n\u001b[0;32m    596\u001b[0m         check_yaml(opt\u001b[38;5;241m.\u001b[39mcfg),\n\u001b[0;32m    597\u001b[0m         check_yaml(opt\u001b[38;5;241m.\u001b[39mhyp),\n\u001b[0;32m    598\u001b[0m         \u001b[38;5;28mstr\u001b[39m(opt\u001b[38;5;241m.\u001b[39mweights),\n\u001b[0;32m    599\u001b[0m         \u001b[38;5;28mstr\u001b[39m(opt\u001b[38;5;241m.\u001b[39mproject),\n\u001b[0;32m    600\u001b[0m     )  \u001b[38;5;66;03m# checks\u001b[39;00m\n\u001b[0;32m    601\u001b[0m     \u001b[38;5;28;01massert\u001b[39;00m \u001b[38;5;28mlen\u001b[39m(opt\u001b[38;5;241m.\u001b[39mcfg) \u001b[38;5;129;01mor\u001b[39;00m \u001b[38;5;28mlen\u001b[39m(opt\u001b[38;5;241m.\u001b[39mweights), \u001b[38;5;124m\"\u001b[39m\u001b[38;5;124meither --cfg or --weights must be specified\u001b[39m\u001b[38;5;124m\"\u001b[39m\n\u001b[0;32m    602\u001b[0m     \u001b[38;5;28;01mif\u001b[39;00m opt\u001b[38;5;241m.\u001b[39mevolve:\n",
      "File \u001b[1;32m~\\ModelDirectory\\yolov5\\utils\\general.py:504\u001b[0m, in \u001b[0;36mcheck_file\u001b[1;34m(file, suffix)\u001b[0m\n\u001b[0;32m    502\u001b[0m \u001b[38;5;28;01mfor\u001b[39;00m d \u001b[38;5;129;01min\u001b[39;00m \u001b[38;5;124m\"\u001b[39m\u001b[38;5;124mdata\u001b[39m\u001b[38;5;124m\"\u001b[39m, \u001b[38;5;124m\"\u001b[39m\u001b[38;5;124mmodels\u001b[39m\u001b[38;5;124m\"\u001b[39m, \u001b[38;5;124m\"\u001b[39m\u001b[38;5;124mutils\u001b[39m\u001b[38;5;124m\"\u001b[39m:  \u001b[38;5;66;03m# search directories\u001b[39;00m\n\u001b[0;32m    503\u001b[0m     files\u001b[38;5;241m.\u001b[39mextend(glob\u001b[38;5;241m.\u001b[39mglob(\u001b[38;5;28mstr\u001b[39m(ROOT \u001b[38;5;241m/\u001b[39m d \u001b[38;5;241m/\u001b[39m \u001b[38;5;124m\"\u001b[39m\u001b[38;5;124m**\u001b[39m\u001b[38;5;124m\"\u001b[39m \u001b[38;5;241m/\u001b[39m file), recursive\u001b[38;5;241m=\u001b[39m\u001b[38;5;28;01mTrue\u001b[39;00m))  \u001b[38;5;66;03m# find file\u001b[39;00m\n\u001b[1;32m--> 504\u001b[0m \u001b[38;5;28;01massert\u001b[39;00m \u001b[38;5;28mlen\u001b[39m(files), \u001b[38;5;124mf\u001b[39m\u001b[38;5;124m\"\u001b[39m\u001b[38;5;124mFile not found: \u001b[39m\u001b[38;5;132;01m{\u001b[39;00mfile\u001b[38;5;132;01m}\u001b[39;00m\u001b[38;5;124m\"\u001b[39m  \u001b[38;5;66;03m# assert file was found\u001b[39;00m\n\u001b[0;32m    505\u001b[0m \u001b[38;5;28;01massert\u001b[39;00m \u001b[38;5;28mlen\u001b[39m(files) \u001b[38;5;241m==\u001b[39m \u001b[38;5;241m1\u001b[39m, \u001b[38;5;124mf\u001b[39m\u001b[38;5;124m\"\u001b[39m\u001b[38;5;124mMultiple files match \u001b[39m\u001b[38;5;124m'\u001b[39m\u001b[38;5;132;01m{\u001b[39;00mfile\u001b[38;5;132;01m}\u001b[39;00m\u001b[38;5;124m'\u001b[39m\u001b[38;5;124m, specify exact path: \u001b[39m\u001b[38;5;132;01m{\u001b[39;00mfiles\u001b[38;5;132;01m}\u001b[39;00m\u001b[38;5;124m\"\u001b[39m  \u001b[38;5;66;03m# assert unique\u001b[39;00m\n\u001b[0;32m    506\u001b[0m \u001b[38;5;28;01mreturn\u001b[39;00m files[\u001b[38;5;241m0\u001b[39m]\n",
      "\u001b[1;31mAssertionError\u001b[0m: File not found: {'train': 'Dataset/train2017/train2017', 'val': 'Dataset/val2017/val2017', 'nc': 80, 'names': ['person', 'bicycle', 'car', 'motorcycle', 'airplane', 'bus', 'train', 'truck', 'boat', 'traffic light', 'fire hydrant', 'stop sign', 'parking meter', 'bench', 'bird', 'cat', 'dog', 'horse', 'sheep', 'cow', 'elephant', 'bear', 'zebra', 'giraffe', 'backpack', 'umbrella', 'handbag', 'tie', 'suitcase', 'frisbee', 'skis', 'snowboard', 'sports ball', 'kite', 'baseball bat', 'baseball glove', 'skateboard', 'surfboard', 'tennis racket', 'bottle', 'wine glass', 'cup', 'fork', 'knife', 'spoon', 'bowl', 'banana', 'apple', 'sandwich', 'orange', 'broccoli', 'carrot', 'hot dog', 'pizza', 'donut', 'cake', 'chair', 'couch', 'potted plant', 'bed', 'dining table', 'toilet', 'TV', 'laptop', 'mouse', 'remote', 'keyboard', 'cell phone', 'microwave', 'oven', 'toaster', 'sink', 'refrigerator', 'book', 'clock', 'vase', 'scissors', 'teddy bear', 'hair drier', 'toothbrush']}"
     ]
    }
   ],
   "source": [
    "train.run(**args)"
   ]
  },
  {
   "cell_type": "code",
   "execution_count": null,
   "id": "b21e420f-8772-4b74-b689-94fbf97b29f0",
   "metadata": {},
   "outputs": [],
   "source": []
  }
 ],
 "metadata": {
  "kernelspec": {
   "display_name": "Python [conda env:base] *",
   "language": "python",
   "name": "conda-base-py"
  },
  "language_info": {
   "codemirror_mode": {
    "name": "ipython",
    "version": 3
   },
   "file_extension": ".py",
   "mimetype": "text/x-python",
   "name": "python",
   "nbconvert_exporter": "python",
   "pygments_lexer": "ipython3",
   "version": "3.11.7"
  }
 },
 "nbformat": 4,
 "nbformat_minor": 5
}
