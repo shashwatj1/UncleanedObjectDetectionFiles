{
 "cells": [
  {
   "cell_type": "code",
   "execution_count": 4,
   "id": "42d221cc-9c5c-470c-bb26-38da9310cea4",
   "metadata": {},
   "outputs": [],
   "source": [
    "import torchvision\n",
    "import torch\n",
    "import torchvision.transforms as transforms\n",
    "import os\n",
    "import matplotlib.pyplot as plt\n",
    "import numpy as np\n",
    "import scipy\n",
    "import cv2\n",
    "import pycocotools\n",
    "from torchvision.datasets import CocoDetection\n",
    "from pycocotools.coco import COCO\n",
    "from matplotlib.patches import Rectangle   \n",
    "import random\n",
    "from PIL import Image\n",
    "import pandas as pd\n",
    "import json"
   ]
  },
  {
   "cell_type": "code",
   "execution_count": 6,
   "id": "1c7dcd37-fce6-40c7-be80-f585d55ba6b3",
   "metadata": {},
   "outputs": [],
   "source": [
    "with open('Dataset/annotations_trainval2017/annotations/instances_train2017.json') as f:\n",
    "    coco_data = json.load(f)"
   ]
  },
  {
   "cell_type": "code",
   "execution_count": 7,
   "id": "54aeaffe-bbe8-4a4a-9840-502d8a2376c1",
   "metadata": {},
   "outputs": [
    {
     "name": "stdout",
     "output_type": "stream",
     "text": [
      "<class 'pandas.core.frame.DataFrame'>\n",
      "RangeIndex: 860001 entries, 0 to 860000\n",
      "Data columns (total 9 columns):\n",
      " #   Column               Non-Null Count   Dtype  \n",
      "---  ------               --------------   -----  \n",
      " 0   segmentation         849949 non-null  object \n",
      " 1   area                 860001 non-null  float64\n",
      " 2   iscrowd              860001 non-null  int64  \n",
      " 3   image_id             860001 non-null  int64  \n",
      " 4   bbox                 860001 non-null  object \n",
      " 5   category_id          860001 non-null  int64  \n",
      " 6   id                   860001 non-null  int64  \n",
      " 7   segmentation.counts  10052 non-null   object \n",
      " 8   segmentation.size    10052 non-null   object \n",
      "dtypes: float64(1), int64(4), object(4)\n",
      "memory usage: 59.1+ MB\n",
      "None\n"
     ]
    }
   ],
   "source": [
    "annotations = pd.json_normalize(coco_data, 'annotations')\n",
    "print(annotations.info())"
   ]
  },
  {
   "cell_type": "code",
   "execution_count": 8,
   "id": "e71f064c-5d68-42d8-91de-fa20f4d3bc0b",
   "metadata": {},
   "outputs": [
    {
     "name": "stdout",
     "output_type": "stream",
     "text": [
      "segmentation            10052\n",
      "area                        0\n",
      "iscrowd                     0\n",
      "image_id                    0\n",
      "bbox                        0\n",
      "category_id                 0\n",
      "id                          0\n",
      "segmentation.counts    849949\n",
      "segmentation.size      849949\n",
      "dtype: int64\n"
     ]
    }
   ],
   "source": [
    "print(annotations.isnull().sum())"
   ]
  },
  {
   "cell_type": "code",
   "execution_count": null,
   "id": "86f4d6af-be86-4b87-969e-2ce3cec13954",
   "metadata": {},
   "outputs": [],
   "source": [
    "import matplotlib.pyplot as plt\n",
    "import seaborn as sns\n",
    "\n",
    "# Univariate distributions\n",
    "numeric_cols = ['area', 'bbox', 'segmentation']\n",
    "annotations[numeric_cols].hist(bins=50, figsize=(15, 10))\n",
    "plt.show()\n",
    "\n",
    "# Pairwise joint distributions\n",
    "sns.pairplot(annotations[numeric_cols])\n",
    "plt.show()"
   ]
  },
  {
   "cell_type": "code",
   "execution_count": null,
   "id": "07828ae6-8ce2-49e8-b304-a83b514f723e",
   "metadata": {},
   "outputs": [],
   "source": []
  }
 ],
 "metadata": {
  "kernelspec": {
   "display_name": "Python [conda env:ObjectDetection] *",
   "language": "python",
   "name": "conda-env-ObjectDetection-py"
  },
  "language_info": {
   "codemirror_mode": {
    "name": "ipython",
    "version": 3
   },
   "file_extension": ".py",
   "mimetype": "text/x-python",
   "name": "python",
   "nbconvert_exporter": "python",
   "pygments_lexer": "ipython3",
   "version": "3.9.19"
  }
 },
 "nbformat": 4,
 "nbformat_minor": 5
}
