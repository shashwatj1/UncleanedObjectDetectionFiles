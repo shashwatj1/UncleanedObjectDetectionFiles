{
 "cells": [
  {
   "cell_type": "code",
   "execution_count": 2,
   "id": "65471e25-8baa-4878-80ec-58dba9d5e900",
   "metadata": {},
   "outputs": [],
   "source": [
    "import os\n",
    "import torch\n",
    "import torchvision\n",
    "import torchvision.transforms as transforms"
   ]
  },
  {
   "cell_type": "code",
   "execution_count": 4,
   "id": "e7ed610f-0388-469a-ba8b-b328878525af",
   "metadata": {},
   "outputs": [
    {
     "data": {
      "text/plain": [
       "['n0', 'n1', 'n2', 'n3', 'n4', 'n5', 'n6', 'n7', 'n8', 'n9']"
      ]
     },
     "execution_count": 4,
     "metadata": {},
     "output_type": "execute_result"
    }
   ],
   "source": [
    "os.listdir(r'C:\\Users\\Shashwat\\OneDrive\\monkeys\\training\\training')"
   ]
  },
  {
   "cell_type": "code",
   "execution_count": 6,
   "id": "56a1ef63-e77a-4e37-956c-3961020dbc6a",
   "metadata": {},
   "outputs": [],
   "source": [
    "training_dataset_path = r'C:\\Users\\Shashwat\\OneDrive\\monkeys\\training\\training'"
   ]
  },
  {
   "cell_type": "code",
   "execution_count": 12,
   "id": "55909832-0b6f-493a-92ca-41bd7909b508",
   "metadata": {},
   "outputs": [],
   "source": [
    "training_transform = transforms.Compose([transforms.Resize((224,224)), transforms.ToTensor()])"
   ]
  },
  {
   "cell_type": "code",
   "execution_count": 18,
   "id": "a3a53ab7-e4bb-4fdd-92c8-4382dff0e8f5",
   "metadata": {},
   "outputs": [],
   "source": [
    "train_dataset = torchvision.datasets.ImageFolder(root=r'C:\\Users\\Shashwat\\OneDrive\\monkeys\\training\\training', transform=training_transform)"
   ]
  },
  {
   "cell_type": "code",
   "execution_count": 20,
   "id": "803b6905-fea6-4324-b94d-a0bf8a9822f4",
   "metadata": {},
   "outputs": [],
   "source": [
    "train_loader = torch.utils.data.DataLoader(dataset = train_dataset, batch_size=32, shuffle=False)"
   ]
  },
  {
   "cell_type": "code",
   "execution_count": 32,
   "id": "9e2cc2b3-625e-4343-b06b-7643e6ecce94",
   "metadata": {},
   "outputs": [],
   "source": [
    "def get_mean_and_std(loader):\n",
    "    mean = 0\n",
    "    std = 0\n",
    "    total_images_count = 0\n",
    "    for images, _ in loader:\n",
    "        image_count_in_a_batch = images.size(0)\n",
    "        #print(images.shape)\n",
    "        images = images.view(image_count_in_a_batch, images.size(1), -1)\n",
    "        #print(images.shape)\n",
    "        mean += images.mean(2).sum(0)\n",
    "        std += images.std(2).sum(0)\n",
    "        total_images_count += image_count_in_a_batch\n",
    "    mean /= total_images_count\n",
    "    std /= total_images_count\n",
    "\n",
    "    return mean, std"
   ]
  },
  {
   "cell_type": "code",
   "execution_count": 34,
   "id": "44cdc7b1-4ef5-4635-af2a-c87d8bba29c5",
   "metadata": {},
   "outputs": [
    {
     "data": {
      "text/plain": [
       "(tensor([0.4363, 0.4328, 0.3291]), tensor([0.2129, 0.2075, 0.2038]))"
      ]
     },
     "execution_count": 34,
     "metadata": {},
     "output_type": "execute_result"
    }
   ],
   "source": [
    "get_mean_and_std(train_loader)"
   ]
  },
  {
   "cell_type": "code",
   "execution_count": 1,
   "id": "6b113a17-b3f1-4f3c-b597-4947ae669804",
   "metadata": {},
   "outputs": [
    {
     "name": "stderr",
     "output_type": "stream",
     "text": [
      "C:\\Users\\Shashwat\\anaconda3\\Lib\\site-packages\\torchvision\\models\\_utils.py:208: UserWarning: The parameter 'pretrained' is deprecated since 0.13 and may be removed in the future, please use 'weights' instead.\n",
      "  warnings.warn(\n",
      "C:\\Users\\Shashwat\\anaconda3\\Lib\\site-packages\\torchvision\\models\\_utils.py:223: UserWarning: Arguments other than a weight enum or `None` for 'weights' are deprecated since 0.13 and may be removed in the future. The current behavior is equivalent to passing `weights=None`.\n",
      "  warnings.warn(msg)\n"
     ]
    },
    {
     "ename": "NameError",
     "evalue": "name 'set_device' is not defined",
     "output_type": "error",
     "traceback": [
      "\u001b[1;31m---------------------------------------------------------------------------\u001b[0m",
      "\u001b[1;31mNameError\u001b[0m                                 Traceback (most recent call last)",
      "Cell \u001b[1;32mIn[1], line 9\u001b[0m\n\u001b[0;32m      7\u001b[0m number_of_classes \u001b[38;5;241m=\u001b[39m \u001b[38;5;241m10\u001b[39m\n\u001b[0;32m      8\u001b[0m resnet18_model\u001b[38;5;241m.\u001b[39mfc \u001b[38;5;241m=\u001b[39m nn\u001b[38;5;241m.\u001b[39mLinear(num_ftrs, number_of_classes)\n\u001b[1;32m----> 9\u001b[0m device \u001b[38;5;241m=\u001b[39m set_device()\n\u001b[0;32m     10\u001b[0m resnet_18_model \u001b[38;5;241m=\u001b[39m resnet18_model\u001b[38;5;241m.\u001b[39mto(device)\n\u001b[0;32m     11\u001b[0m loss_fn \u001b[38;5;241m=\u001b[39m nn\u001b[38;5;241m.\u001b[39mCrossEntropyLoss()\n",
      "\u001b[1;31mNameError\u001b[0m: name 'set_device' is not defined"
     ]
    }
   ],
   "source": [
    "import torchvision.models as models\n",
    "import torch.nn as nn\n",
    "import torch.optim as optim\n",
    "\n",
    "resnet18_model = models.resnet18(pretrained=False)\n",
    "num_ftrs = resnet18_model.fc.in_features\n",
    "number_of_classes = 10\n",
    "resnet18_model.fc = nn.Linear(num_ftrs, number_of_classes)\n",
    "device = set_device()\n",
    "resnet_18_model = resnet18_model.to(device)\n",
    "loss_fn = nn.CrossEntropyLoss()\n",
    "\n",
    "optimizer = optim.SGD(resnet18_model.parameters(), lr=0.01, momentum=0.9, weight_decay=0.003)\n"
   ]
  },
  {
   "cell_type": "code",
   "execution_count": null,
   "id": "8c70023b-62e9-447f-a0e2-8b1101270ab1",
   "metadata": {},
   "outputs": [],
   "source": []
  }
 ],
 "metadata": {
  "kernelspec": {
   "display_name": "Python [conda env:base]",
   "language": "python",
   "name": "conda-base-py"
  },
  "language_info": {
   "codemirror_mode": {
    "name": "ipython",
    "version": 3
   },
   "file_extension": ".py",
   "mimetype": "text/x-python",
   "name": "python",
   "nbconvert_exporter": "python",
   "pygments_lexer": "ipython3",
   "version": "3.11.7"
  }
 },
 "nbformat": 4,
 "nbformat_minor": 5
}
