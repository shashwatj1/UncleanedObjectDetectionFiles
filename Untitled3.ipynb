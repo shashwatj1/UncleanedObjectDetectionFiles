{
 "cells": [
  {
   "cell_type": "code",
   "execution_count": 2,
   "id": "bf227566-a99e-44cf-978b-3a94133ae3a4",
   "metadata": {},
   "outputs": [],
   "source": [
    "import pyttsx3"
   ]
  },
  {
   "cell_type": "code",
   "execution_count": 4,
   "id": "64caa25f-bbd0-4732-a188-d5a24c92e37a",
   "metadata": {},
   "outputs": [],
   "source": [
    "def text_to_speech(text):\n",
    "    # Initialize the TTS engine\n",
    "    engine = pyttsx3.init()\n",
    "    \n",
    "    # Set properties (optional)\n",
    "    engine.setProperty('rate', 150)  # Speed of speech\n",
    "    engine.setProperty('volume', 1)  # Volume level (0.0 to 1.0)\n",
    "    \n",
    "    # Speak the text\n",
    "    engine.say(text)\n",
    "    engine.runAndWait()"
   ]
  },
  {
   "cell_type": "code",
   "execution_count": 6,
   "id": "1fd2f14e-3df0-4639-8d37-28ecd980aa52",
   "metadata": {},
   "outputs": [],
   "source": [
    "from ultralytics import YOLO"
   ]
  },
  {
   "cell_type": "code",
   "execution_count": 7,
   "id": "73388987-f051-4489-826c-555acba453f2",
   "metadata": {},
   "outputs": [],
   "source": [
    "model = YOLO(\"yolov8n.pt\")"
   ]
  },
  {
   "cell_type": "code",
   "execution_count": 10,
   "id": "8f08d4ba-5c20-4a97-bd89-db214b87403d",
   "metadata": {},
   "outputs": [],
   "source": [
    "test_image =  \"Dataset/val2017/val2017/000000003934.jpg\""
   ]
  },
  {
   "cell_type": "code",
   "execution_count": 12,
   "id": "b6bc69ad-084c-4f5d-b77b-0ffb07c9c406",
   "metadata": {},
   "outputs": [
    {
     "name": "stdout",
     "output_type": "stream",
     "text": [
      "\n",
      "image 1/1 C:\\Users\\Shashwat\\ModelDirectory\\Dataset\\val2017\\val2017\\000000003934.jpg: 640x480 8 persons, 1 wine glass, 1 couch, 174.4ms\n",
      "Speed: 9.5ms preprocess, 174.4ms inference, 242.0ms postprocess per image at shape (1, 3, 640, 480)\n"
     ]
    }
   ],
   "source": [
    "results = model(test_image, show=True)"
   ]
  },
  {
   "cell_type": "code",
   "execution_count": 14,
   "id": "8028c652-ec42-4116-8f35-3a4d70ab1152",
   "metadata": {},
   "outputs": [],
   "source": [
    "class_names = [model.names[int(box.cls)] for box in results[0].boxes]"
   ]
  },
  {
   "cell_type": "code",
   "execution_count": 16,
   "id": "22a80aa8-48f0-40ea-94fe-e487908eedca",
   "metadata": {},
   "outputs": [
    {
     "data": {
      "text/plain": [
       "['couch',\n",
       " 'person',\n",
       " 'person',\n",
       " 'person',\n",
       " 'wine glass',\n",
       " 'person',\n",
       " 'person',\n",
       " 'person',\n",
       " 'person',\n",
       " 'person']"
      ]
     },
     "execution_count": 16,
     "metadata": {},
     "output_type": "execute_result"
    }
   ],
   "source": [
    "class_names"
   ]
  },
  {
   "cell_type": "code",
   "execution_count": 18,
   "id": "c6aba7c9-9f87-49a2-8b35-04888eb5d6da",
   "metadata": {},
   "outputs": [],
   "source": [
    "def read_items_detected(class_names):\n",
    "    for class_name in class_names:\n",
    "        text = (f\"{class_name} detected.\")\n",
    "        text_to_speech(text)"
   ]
  },
  {
   "cell_type": "code",
   "execution_count": 20,
   "id": "f779d771-537c-451c-9bd9-e27ea4e10890",
   "metadata": {},
   "outputs": [],
   "source": [
    "read_items_detected(class_names)"
   ]
  },
  {
   "cell_type": "code",
   "execution_count": null,
   "id": "13683560-d68a-42b4-8259-b14d8e57b513",
   "metadata": {},
   "outputs": [],
   "source": []
  }
 ],
 "metadata": {
  "kernelspec": {
   "display_name": "Python [conda env:base] *",
   "language": "python",
   "name": "conda-base-py"
  },
  "language_info": {
   "codemirror_mode": {
    "name": "ipython",
    "version": 3
   },
   "file_extension": ".py",
   "mimetype": "text/x-python",
   "name": "python",
   "nbconvert_exporter": "python",
   "pygments_lexer": "ipython3",
   "version": "3.11.7"
  }
 },
 "nbformat": 4,
 "nbformat_minor": 5
}
